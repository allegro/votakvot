{
 "cells": [
  {
   "cell_type": "markdown",
   "source": [
    "'votakvot' basic usage example"
   ],
   "metadata": {}
  },
  {
   "cell_type": "code",
   "execution_count": null,
   "source": [
    "import math\n",
    "import random\n",
    "import tempfile"
   ],
   "outputs": [],
   "metadata": {}
  },
  {
   "cell_type": "code",
   "execution_count": null,
   "source": [
    "import votakvot"
   ],
   "outputs": [],
   "metadata": {}
  },
  {
   "cell_type": "code",
   "execution_count": null,
   "source": [
    "store_path = tempfile.mkdtemp()\n",
    "print(\"write results into\", store_path)"
   ],
   "outputs": [],
   "metadata": {}
  },
  {
   "cell_type": "code",
   "execution_count": null,
   "source": [
    "votakvot.init(\n",
    "    \n",
    "    # path to store results\n",
    "    path=store_path,   \n",
    "    \n",
    "    # execute code in separate processes\n",
    "    # add this if you want to use parallel execution\n",
    "    runner='process',  \n",
    ")"
   ],
   "outputs": [],
   "metadata": {}
  },
  {
   "cell_type": "code",
   "execution_count": null,
   "source": [
    "@votakvot.track()\n",
    "def calc_pi(n, seed=0):\n",
    "    \n",
    "    r = random.Random(seed)\n",
    "    acc = 0\n",
    "    for _i in range(n):\n",
    "        x = r.random()\n",
    "        y = r.random()\n",
    "        acc += x * x + y * y < 1\n",
    "\n",
    "    pi = 4 * (acc / n)\n",
    "\n",
    "    votakvot.inform(\n",
    "        accuracy=abs(math.pi - pi),\n",
    "    )\n",
    "\n",
    "    return  pi"
   ],
   "outputs": [],
   "metadata": {}
  },
  {
   "cell_type": "code",
   "execution_count": null,
   "source": [
    "# single call\n",
    "\n",
    "calc_pi(100, 0)"
   ],
   "outputs": [],
   "metadata": {}
  },
  {
   "cell_type": "code",
   "execution_count": null,
   "source": [
    "# sequential run\n",
    "\n",
    "for s in range(30):\n",
    "    n = (10 + s) * 10 ** 5\n",
    "    pi = calc_pi(n, s)\n",
    "    print(f\"n={n}, s={s}  >>  pi={pi}\")"
   ],
   "outputs": [],
   "metadata": {}
  },
  {
   "cell_type": "code",
   "execution_count": null,
   "source": [
    "# parallel run\n",
    "\n",
    "pi_trials = calc_pi.multi(\n",
    "    {'n': (10 + s) * 10 ** 5, 'seed': s}\n",
    "    for s in range(30)\n",
    ")\n",
    "\n",
    "for t in pi_trials:\n",
    "    print(dict(t.params), \">>\", t.result)"
   ],
   "outputs": [],
   "metadata": {}
  },
  {
   "cell_type": "code",
   "execution_count": null,
   "source": [
    "# load results\n",
    "\n",
    "votakvot.load_report()"
   ],
   "outputs": [],
   "metadata": {}
  }
 ],
 "metadata": {
  "kernelspec": {
   "name": "python3",
   "display_name": "Python 3.8.10 64-bit ('votakvot': virtualenv)"
  },
  "language_info": {
   "codemirror_mode": {
    "name": "ipython",
    "version": 3
   },
   "file_extension": ".py",
   "mimetype": "text/x-python",
   "name": "python",
   "nbconvert_exporter": "python",
   "pygments_lexer": "ipython3",
   "version": "3.8.10"
  },
  "interpreter": {
   "hash": "a929b966bde631fe5cf8ae9dfbaff378026e21bda0305414f8e3d12d52be024b"
  }
 },
 "nbformat": 4,
 "nbformat_minor": 2
}
