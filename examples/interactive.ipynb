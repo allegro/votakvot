{
 "cells": [
  {
   "cell_type": "markdown",
   "metadata": {},
   "source": [
    "'votakvot' basic usage example"
   ]
  },
  {
   "cell_type": "code",
   "execution_count": null,
   "metadata": {},
   "outputs": [],
   "source": [
    "import math\n",
    "import random\n",
    "import tempfile"
   ]
  },
  {
   "cell_type": "code",
   "execution_count": null,
   "metadata": {},
   "outputs": [],
   "source": [
    "import votakvot"
   ]
  },
  {
   "cell_type": "code",
   "execution_count": null,
   "metadata": {},
   "outputs": [],
   "source": [
    "store_path = tempfile.mkdtemp()\n",
    "print(\"write results into\", store_path)"
   ]
  },
  {
   "cell_type": "code",
   "execution_count": null,
   "metadata": {},
   "outputs": [],
   "source": [
    "votakvot.init(\n",
    "    \n",
    "    # path to store results\n",
    "    path=store_path,   \n",
    "    \n",
    "    # execute code in separate processes\n",
    "    # add this if you want to use parallel execution\n",
    "    runner='process',  \n",
    ")"
   ]
  },
  {
   "cell_type": "code",
   "execution_count": null,
   "metadata": {},
   "outputs": [],
   "source": [
    "@votakvot.track()\n",
    "def calc_pi(n, seed=0):\n",
    "    \n",
    "    r = random.Random(seed)\n",
    "    acc = 0\n",
    "    for _i in range(n):\n",
    "        x = r.random()\n",
    "        y = r.random()\n",
    "        acc += x * x + y * y < 1\n",
    "\n",
    "    pi = 4 * (acc / n)\n",
    "\n",
    "    votakvot.inform(\n",
    "        accuracy=abs(math.pi - pi),\n",
    "    )\n",
    "\n",
    "    return  pi"
   ]
  },
  {
   "cell_type": "code",
   "execution_count": null,
   "metadata": {},
   "outputs": [],
   "source": [
    "# single call\n",
    "\n",
    "calc_pi(100, 0)"
   ]
  },
  {
   "cell_type": "code",
   "execution_count": null,
   "metadata": {},
   "outputs": [],
   "source": [
    "# sequential run\n",
    "\n",
    "for s in range(30):\n",
    "    n = (10 + s) * 10 ** 5\n",
    "    pi = calc_pi(n, s)\n",
    "    print(f\"n={n}, s={s}  >>  pi={pi}\")"
   ]
  },
  {
   "cell_type": "code",
   "execution_count": null,
   "metadata": {},
   "outputs": [],
   "source": [
    "# parallel run\n",
    "from concurrent.futures import ThreadPoolExecutor\n",
    "executor = ThreadPoolExecutor(max_workers=10)\n",
    "\n",
    "results = executor.map(\n",
    "    lambda params: {**params, 'pi': calc_pi(**params)},\n",
    "    [{'n': (10 + s) * 10 ** 5, 'seed': s} for s in range(30)]\n",
    ")\n",
    "for r in results:\n",
    "    print(\">>\", r)"
   ]
  },
  {
   "cell_type": "code",
   "execution_count": null,
   "metadata": {},
   "outputs": [],
   "source": [
    "# load results\n",
    "\n",
    "votakvot.load_report()"
   ]
  }
 ],
 "metadata": {
  "interpreter": {
   "hash": "d5ec25aa81ee990734671dc1467a57bfa38255ecc692ee6fa887a994736c24d2"
  },
  "kernelspec": {
   "display_name": "Python 3.8.12 64-bit ('votakvot': virtualenv)",
   "name": "python3"
  },
  "language_info": {
   "codemirror_mode": {
    "name": "ipython",
    "version": 3
   },
   "file_extension": ".py",
   "mimetype": "text/x-python",
   "name": "python",
   "nbconvert_exporter": "python",
   "pygments_lexer": "ipython3",
   "version": "3.8.12"
  }
 },
 "nbformat": 4,
 "nbformat_minor": 2
}
